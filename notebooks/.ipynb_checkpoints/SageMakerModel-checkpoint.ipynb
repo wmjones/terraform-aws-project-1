{
 "cells": [
  {
   "cell_type": "code",
   "execution_count": 1,
   "id": "846f5259",
   "metadata": {},
   "outputs": [
    {
     "name": "stdout",
     "output_type": "stream",
     "text": [
      "Requirement already satisfied: pandas_profiling in /home/ec2-user/anaconda3/envs/python3/lib/python3.6/site-packages (3.1.0)\n",
      "Requirement already satisfied: matplotlib>=3.2.0 in /home/ec2-user/anaconda3/envs/python3/lib/python3.6/site-packages (from pandas_profiling) (3.3.4)\n",
      "Requirement already satisfied: requests>=2.24.0 in /home/ec2-user/anaconda3/envs/python3/lib/python3.6/site-packages (from pandas_profiling) (2.26.0)\n",
      "Requirement already satisfied: joblib~=1.0.1 in /home/ec2-user/anaconda3/envs/python3/lib/python3.6/site-packages (from pandas_profiling) (1.0.1)\n",
      "Requirement already satisfied: phik>=0.11.1 in /home/ec2-user/anaconda3/envs/python3/lib/python3.6/site-packages (from pandas_profiling) (0.12.0)\n",
      "Requirement already satisfied: numpy>=1.16.0 in /home/ec2-user/anaconda3/envs/python3/lib/python3.6/site-packages (from pandas_profiling) (1.19.5)\n",
      "Requirement already satisfied: htmlmin>=0.1.12 in /home/ec2-user/anaconda3/envs/python3/lib/python3.6/site-packages (from pandas_profiling) (0.1.12)\n",
      "Requirement already satisfied: scipy>=1.4.1 in /home/ec2-user/anaconda3/envs/python3/lib/python3.6/site-packages (from pandas_profiling) (1.5.3)\n",
      "Requirement already satisfied: missingno>=0.4.2 in /home/ec2-user/anaconda3/envs/python3/lib/python3.6/site-packages (from pandas_profiling) (0.5.0)\n",
      "Requirement already satisfied: jinja2>=2.11.1 in /home/ec2-user/anaconda3/envs/python3/lib/python3.6/site-packages (from pandas_profiling) (2.11.3)\n",
      "Requirement already satisfied: tangled-up-in-unicode==0.1.0 in /home/ec2-user/anaconda3/envs/python3/lib/python3.6/site-packages (from pandas_profiling) (0.1.0)\n",
      "Requirement already satisfied: seaborn>=0.10.1 in /home/ec2-user/anaconda3/envs/python3/lib/python3.6/site-packages (from pandas_profiling) (0.11.1)\n",
      "Requirement already satisfied: pydantic>=1.8.1 in /home/ec2-user/anaconda3/envs/python3/lib/python3.6/site-packages (from pandas_profiling) (1.8.2)\n",
      "Requirement already satisfied: pandas!=1.0.0,!=1.0.1,!=1.0.2,!=1.1.0,>=0.25.3 in /home/ec2-user/anaconda3/envs/python3/lib/python3.6/site-packages (from pandas_profiling) (1.1.5)\n",
      "Requirement already satisfied: markupsafe~=2.0.1 in /home/ec2-user/anaconda3/envs/python3/lib/python3.6/site-packages (from pandas_profiling) (2.0.1)\n",
      "Requirement already satisfied: multimethod>=1.4 in /home/ec2-user/anaconda3/envs/python3/lib/python3.6/site-packages (from pandas_profiling) (1.5)\n",
      "Requirement already satisfied: PyYAML>=5.0.0 in /home/ec2-user/anaconda3/envs/python3/lib/python3.6/site-packages (from pandas_profiling) (5.4.1)\n",
      "Requirement already satisfied: tqdm>=4.48.2 in /home/ec2-user/anaconda3/envs/python3/lib/python3.6/site-packages (from pandas_profiling) (4.62.2)\n",
      "Requirement already satisfied: visions[type_image_path]==0.7.4 in /home/ec2-user/anaconda3/envs/python3/lib/python3.6/site-packages (from pandas_profiling) (0.7.4)\n",
      "Requirement already satisfied: networkx>=2.4 in /home/ec2-user/anaconda3/envs/python3/lib/python3.6/site-packages (from visions[type_image_path]==0.7.4->pandas_profiling) (2.5)\n",
      "Requirement already satisfied: attrs>=19.3.0 in /home/ec2-user/anaconda3/envs/python3/lib/python3.6/site-packages (from visions[type_image_path]==0.7.4->pandas_profiling) (20.3.0)\n",
      "Requirement already satisfied: imagehash in /home/ec2-user/anaconda3/envs/python3/lib/python3.6/site-packages (from visions[type_image_path]==0.7.4->pandas_profiling) (4.2.1)\n",
      "Requirement already satisfied: Pillow in /home/ec2-user/anaconda3/envs/python3/lib/python3.6/site-packages (from visions[type_image_path]==0.7.4->pandas_profiling) (8.3.2)\n",
      "Requirement already satisfied: python-dateutil>=2.1 in /home/ec2-user/anaconda3/envs/python3/lib/python3.6/site-packages (from matplotlib>=3.2.0->pandas_profiling) (2.8.1)\n",
      "Requirement already satisfied: cycler>=0.10 in /home/ec2-user/anaconda3/envs/python3/lib/python3.6/site-packages (from matplotlib>=3.2.0->pandas_profiling) (0.10.0)\n",
      "Requirement already satisfied: kiwisolver>=1.0.1 in /home/ec2-user/anaconda3/envs/python3/lib/python3.6/site-packages (from matplotlib>=3.2.0->pandas_profiling) (1.3.1)\n",
      "Requirement already satisfied: pyparsing!=2.0.4,!=2.1.2,!=2.1.6,>=2.0.3 in /home/ec2-user/anaconda3/envs/python3/lib/python3.6/site-packages (from matplotlib>=3.2.0->pandas_profiling) (2.4.7)\n",
      "Requirement already satisfied: six in /home/ec2-user/anaconda3/envs/python3/lib/python3.6/site-packages (from cycler>=0.10->matplotlib>=3.2.0->pandas_profiling) (1.15.0)\n",
      "Requirement already satisfied: decorator>=4.3.0 in /home/ec2-user/anaconda3/envs/python3/lib/python3.6/site-packages (from networkx>=2.4->visions[type_image_path]==0.7.4->pandas_profiling) (4.4.2)\n",
      "Requirement already satisfied: pytz>=2017.2 in /home/ec2-user/anaconda3/envs/python3/lib/python3.6/site-packages (from pandas!=1.0.0,!=1.0.1,!=1.0.2,!=1.1.0,>=0.25.3->pandas_profiling) (2021.1)\n",
      "Requirement already satisfied: dataclasses>=0.6 in /home/ec2-user/anaconda3/envs/python3/lib/python3.6/site-packages (from pydantic>=1.8.1->pandas_profiling) (0.8)\n",
      "Requirement already satisfied: typing-extensions>=3.7.4.3 in /home/ec2-user/anaconda3/envs/python3/lib/python3.6/site-packages (from pydantic>=1.8.1->pandas_profiling) (3.10.0.2)\n",
      "Requirement already satisfied: idna<4,>=2.5 in /home/ec2-user/anaconda3/envs/python3/lib/python3.6/site-packages (from requests>=2.24.0->pandas_profiling) (3.1)\n",
      "Requirement already satisfied: certifi>=2017.4.17 in /home/ec2-user/anaconda3/envs/python3/lib/python3.6/site-packages (from requests>=2.24.0->pandas_profiling) (2021.5.30)\n",
      "Requirement already satisfied: charset-normalizer~=2.0.0 in /home/ec2-user/anaconda3/envs/python3/lib/python3.6/site-packages (from requests>=2.24.0->pandas_profiling) (2.0.6)\n",
      "Requirement already satisfied: urllib3<1.27,>=1.21.1 in /home/ec2-user/anaconda3/envs/python3/lib/python3.6/site-packages (from requests>=2.24.0->pandas_profiling) (1.26.6)\n",
      "Requirement already satisfied: PyWavelets in /home/ec2-user/anaconda3/envs/python3/lib/python3.6/site-packages (from imagehash->visions[type_image_path]==0.7.4->pandas_profiling) (1.1.1)\n",
      "\u001b[33mWARNING: You are using pip version 21.2.4; however, version 21.3.1 is available.\n",
      "You should consider upgrading via the '/home/ec2-user/anaconda3/envs/python3/bin/python -m pip install --upgrade pip' command.\u001b[0m\n",
      "Note: you may need to restart the kernel to use updated packages.\n"
     ]
    }
   ],
   "source": [
    "%pip install pandas_profiling"
   ]
  },
  {
   "cell_type": "code",
   "execution_count": 12,
   "id": "4fd4aa4e",
   "metadata": {},
   "outputs": [],
   "source": [
    "import pandas as pd\n",
    "import numpy as np\n",
    "\n",
    "import boto3\n",
    "import sagemaker\n",
    "import joblib\n",
    "\n",
    "from sklearn.pipeline import make_pipeline\n",
    "from sklearn.compose import ColumnTransformer, make_column_selector\n",
    "from sklearn.preprocessing import Binarizer, StandardScaler, OneHotEncoder\n",
    "\n",
    "import matplotlib.pyplot as plt\n",
    "import seaborn as sns\n",
    "from pandas_profiling import ProfileReport\n",
    "\n",
    "pd.set_option('display.max_columns', None)"
   ]
  },
  {
   "cell_type": "code",
   "execution_count": 2,
   "id": "d56912db",
   "metadata": {},
   "outputs": [],
   "source": [
    "sagemaker_session = sagemaker.Session()\n",
    "role = sagemaker.get_execution_role()"
   ]
  },
  {
   "cell_type": "code",
   "execution_count": null,
   "id": "f1b66f5d",
   "metadata": {},
   "outputs": [],
   "source": [
    "# create bucket for project and model artifacts\n",
    "# later use this to sync with mlflow airflow practice projects"
   ]
  },
  {
   "cell_type": "code",
   "execution_count": 3,
   "id": "02e95bc4",
   "metadata": {},
   "outputs": [],
   "source": [
    "df_dtypes = {\n",
    "    \"price\": np.float32,\n",
    "    \"year\": np.float16,\n",
    "    \"manufacturer\": \"category\",\n",
    "    \"model\": \"category\",\n",
    "    \"condition\": \"category\",\n",
    "    \"cylinders\": \"category\",\n",
    "    \"fuel\": \"category\",\n",
    "    \"title_status\": \"category\",\n",
    "    \"size\": \"category\",\n",
    "    \"odometer\": \"category\",\n",
    "    \"transmission\": \"category\",\n",
    "    \"drive\": \"category\",\n",
    "    \"type\": \"category\",\n",
    "    \"state\": \"category\",\n",
    "    \"paint_color\": \"category\"\n",
    "}"
   ]
  },
  {
   "cell_type": "code",
   "execution_count": 10,
   "id": "363a2862",
   "metadata": {},
   "outputs": [],
   "source": [
    "df = pd.read_csv(\"s3://wyatt-datalake/data/terraform-aws-project-1/vehicles.csv\", dtype=df_dtypes, usecols=list(df_dtypes.keys()))"
   ]
  },
  {
   "cell_type": "code",
   "execution_count": 8,
   "id": "ce807a2d",
   "metadata": {},
   "outputs": [],
   "source": [
    "# profile = ProfileReport(data, title=\"Pandas Profiling Report\")\n",
    "# profile.to_file(output_file='eda.html')"
   ]
  },
  {
   "cell_type": "code",
   "execution_count": null,
   "id": "dcc314b2",
   "metadata": {},
   "outputs": [],
   "source": [
    "numeric_transformer = make_pipeline(\n",
    "    SimpleImputer(strategy='median'),\n",
    "    StandardScaler())\n",
    "\n",
    "categorical_transformer = make_pipeline(\n",
    "    SimpleImputer(strategy='constant', fill_value='missing'),\n",
    "    OneHotEncoder(handle_unknown='ignore'))\n",
    "\n",
    "preprocessor = ColumnTransformer(transformers=[\n",
    "        (\"num\", numeric_transformer, make_column_selector(dtype_exclude=\"category\")),\n",
    "        (\"cat\", categorical_transformer, make_column_selector(dtype_include=\"category\"))])\n",
    "preprocessor.fit(df)\n",
    "joblib.dump(preprocessor, os.path.join(args.model_dir, \"model.joblib\"))"
   ]
  },
  {
   "cell_type": "code",
   "execution_count": null,
   "id": "ae699f8b",
   "metadata": {},
   "outputs": [],
   "source": [
    "from sagemaker.sklearn.estimator import SKLearn\n",
    "\n",
    "FRAMEWORK_VERSION = \"0.23-1\"\n",
    "script_path = \"sklearn_abalone_featurizer.py\"\n",
    "\n",
    "sklearn_preprocessor = SKLearn(\n",
    "    entry_point=script_path,\n",
    "    role=role,\n",
    "    framework_version=FRAMEWORK_VERSION,\n",
    "    instance_type=\"ml.c4.xlarge\",\n",
    "    sagemaker_session=sagemaker_session,\n",
    ")\n",
    "\n",
    "# Define a SKLearn Transformer from the trained SKLearn Estimator\n",
    "transformer = sklearn_preprocessor.transformer(\n",
    "    instance_count=1, instance_type=\"ml.m5.xlarge\", assemble_with=\"Line\", accept=\"text/csv\"\n",
    ")\n",
    "\n",
    "# Preprocess training input\n",
    "transformer.transform(train_input, content_type=\"text/csv\")\n",
    "print(\"Waiting for transform job: \" + transformer.latest_transform_job.job_name)\n",
    "transformer.wait()\n",
    "preprocessed_train = transformer.output_path"
   ]
  },
  {
   "cell_type": "code",
   "execution_count": null,
   "id": "9e01c04e",
   "metadata": {},
   "outputs": [],
   "source": [
    "from sagemaker.image_uris import retrieve\n",
    "\n",
    "ll_image = retrieve(\"linear-learner\", boto3.Session().region_name)"
   ]
  },
  {
   "cell_type": "code",
   "execution_count": null,
   "id": "60b56858",
   "metadata": {},
   "outputs": [],
   "source": [
    "s3_ll_output_key_prefix = \"ll_training_output\"\n",
    "s3_ll_output_location = \"s3://{}/{}/{}/{}\".format(\n",
    "    bucket, prefix, s3_ll_output_key_prefix, \"ll_model\"\n",
    ")\n",
    "\n",
    "ll_estimator = sagemaker.estimator.Estimator(\n",
    "    ll_image,\n",
    "    role,\n",
    "    instance_count=1,\n",
    "    instance_type=\"ml.m4.2xlarge\",\n",
    "    volume_size=20,\n",
    "    max_run=3600,\n",
    "    input_mode=\"File\",\n",
    "    output_path=s3_ll_output_location,\n",
    "    sagemaker_session=sagemaker_session,\n",
    ")\n",
    "\n",
    "ll_estimator.set_hyperparameters(feature_dim=10, predictor_type=\"regressor\", mini_batch_size=32)\n",
    "\n",
    "ll_train_data = sagemaker.inputs.TrainingInput(\n",
    "    preprocessed_train,\n",
    "    distribution=\"FullyReplicated\",\n",
    "    content_type=\"text/csv\",\n",
    "    s3_data_type=\"S3Prefix\",\n",
    ")\n",
    "\n",
    "data_channels = {\"train\": ll_train_data}\n",
    "ll_estimator.fit(inputs=data_channels, logs=True)"
   ]
  },
  {
   "cell_type": "code",
   "execution_count": null,
   "id": "b6f7ee76",
   "metadata": {},
   "outputs": [],
   "source": [
    "from sagemaker.model import Model\n",
    "from sagemaker.pipeline import PipelineModel\n",
    "import boto3\n",
    "from time import gmtime, strftime\n",
    "\n",
    "timestamp_prefix = strftime(\"%Y-%m-%d-%H-%M-%S\", gmtime())\n",
    "\n",
    "scikit_learn_inferencee_model = sklearn_preprocessor.create_model()\n",
    "linear_learner_model = ll_estimator.create_model()\n",
    "\n",
    "model_name = \"inference-pipeline-\" + timestamp_prefix\n",
    "endpoint_name = \"inference-pipeline-ep-\" + timestamp_prefix\n",
    "sm_model = PipelineModel(\n",
    "    name=model_name, role=role, models=[scikit_learn_inferencee_model, linear_learner_model]\n",
    ")\n",
    "\n",
    "sm_model.deploy(initial_instance_count=1, instance_type=\"ml.c4.xlarge\", endpoint_name=endpoint_name)"
   ]
  },
  {
   "cell_type": "code",
   "execution_count": null,
   "id": "9a440ea2",
   "metadata": {},
   "outputs": [],
   "source": [
    "from sagemaker.predictor import Predictor\n",
    "from sagemaker.serializers import CSVSerializer\n",
    "\n",
    "payload = \"M, 0.44, 0.365, 0.125, 0.516, 0.2155, 0.114, 0.155\"\n",
    "actual_rings = 10\n",
    "predictor = Predictor(\n",
    "    endpoint_name=endpoint_name, sagemaker_session=sagemaker_session, serializer=CSVSerializer()\n",
    ")\n",
    "\n",
    "print(predictor.predict(payload))"
   ]
  },
  {
   "cell_type": "code",
   "execution_count": null,
   "id": "c1aeefad",
   "metadata": {},
   "outputs": [],
   "source": [
    "sm_client = sagemaker_session.boto_session.client(\"sagemaker\")\n",
    "sm_client.delete_endpoint(EndpointName=endpoint_name)"
   ]
  }
 ],
 "metadata": {
  "kernelspec": {
   "display_name": "conda_python3",
   "language": "python",
   "name": "conda_python3"
  },
  "language_info": {
   "codemirror_mode": {
    "name": "ipython",
    "version": 3
   },
   "file_extension": ".py",
   "mimetype": "text/x-python",
   "name": "python",
   "nbconvert_exporter": "python",
   "pygments_lexer": "ipython3",
   "version": "3.6.13"
  }
 },
 "nbformat": 4,
 "nbformat_minor": 5
}
